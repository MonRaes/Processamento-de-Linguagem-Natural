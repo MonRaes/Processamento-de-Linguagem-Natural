{
  "nbformat": 4,
  "nbformat_minor": 0,
  "metadata": {
    "colab": {
      "provenance": [],
      "authorship_tag": "ABX9TyOr3eL6qaOiT/xf2UK4QVtW",
      "include_colab_link": true
    },
    "kernelspec": {
      "name": "python3",
      "display_name": "Python 3"
    },
    "language_info": {
      "name": "python"
    }
  },
  "cells": [
    {
      "cell_type": "markdown",
      "metadata": {
        "id": "view-in-github",
        "colab_type": "text"
      },
      "source": [
        "<a href=\"https://colab.research.google.com/github/MonRaes/Processamento-de-Linguagem-Natural/blob/main/Aula_7_DestrinchamentoTextos.ipynb\" target=\"_parent\"><img src=\"https://colab.research.google.com/assets/colab-badge.svg\" alt=\"Open In Colab\"/></a>"
      ]
    },
    {
      "cell_type": "markdown",
      "source": [
        "# **Aula 07** - Análise Quantitativa de Corpus\n",
        "- Apresentar noções básicas sobre o que é e como se usa um corpus de dados linguísticos\n",
        "- Criar estruturas simples para limpeza e análise de corpora\n",
        "- Usar técnicas de mineração de dados e extração da informação, como cálculos de relevância de palavras\n",
        "- Além de implementar esses métodos em Python, levantar elementos que permitam discutir criticamente os resultados obtidos"
      ],
      "metadata": {
        "id": "XKUd_2OzC63h"
      }
    },
    {
      "cell_type": "code",
      "source": [
        "import nltk\n",
        "from nltk.corpus import machado\n",
        "nltk.download('machado')"
      ],
      "metadata": {
        "colab": {
          "base_uri": "https://localhost:8080/"
        },
        "id": "B2fokhEvD5n6",
        "outputId": "5035812b-b0dd-42c2-af7c-b002117d2d00"
      },
      "execution_count": 2,
      "outputs": [
        {
          "output_type": "stream",
          "name": "stderr",
          "text": [
            "[nltk_data] Downloading package machado to /root/nltk_data...\n"
          ]
        },
        {
          "output_type": "execute_result",
          "data": {
            "text/plain": [
              "True"
            ]
          },
          "metadata": {},
          "execution_count": 2
        }
      ]
    },
    {
      "cell_type": "code",
      "source": [
        "import zipfile\n",
        "caminho_zip = '/root/nltk_data/corpora/machado.zip'\n",
        "\n",
        "arquivo_zip = zipfile.ZipFile(caminho_zip,'r')\n",
        "\n",
        "arquivo_zip.printdir()"
      ],
      "metadata": {
        "colab": {
          "base_uri": "https://localhost:8080/"
        },
        "collapsed": true,
        "id": "Zc1BBS6AERvC",
        "outputId": "3b104a4e-782e-4a01-a02b-0abf5497a148"
      },
      "execution_count": 3,
      "outputs": [
        {
          "output_type": "stream",
          "name": "stdout",
          "text": [
            "File Name                                             Modified             Size\n",
            "machado/                                       2009-11-07 17:15:34            0\n",
            "machado/CONTENTS                               2009-11-07 17:01:42         7414\n",
            "machado/contos/                                2009-11-07 00:29:12            0\n",
            "machado/contos/macn001.txt                     2009-11-07 00:27:08       325777\n",
            "machado/contos/macn002.txt                     2009-11-07 00:27:08       263696\n",
            "machado/contos/macn003.txt                     2009-11-07 00:27:10       319473\n",
            "machado/contos/macn004.txt                     2009-11-07 00:27:10       294593\n",
            "machado/contos/macn005.txt                     2009-11-07 00:27:10       253555\n",
            "machado/contos/macn006.txt                     2009-11-07 00:27:10       130664\n",
            "machado/contos/macn007.txt                     2009-11-07 00:27:12       169880\n",
            "machado/contos/macn008.txt                     2009-11-07 00:27:12         3936\n",
            "machado/contos/macn009.txt                     2009-11-07 00:27:12        30032\n",
            "machado/contos/macn010.txt                     2009-11-07 00:27:12        28904\n",
            "machado/contos/macn011.txt                     2009-11-07 00:27:12        28616\n",
            "machado/contos/macn012.txt                     2009-11-07 00:27:12        35373\n",
            "machado/contos/macn013.txt                     2009-11-07 00:27:12        87828\n",
            "machado/contos/macn014.txt                     2009-11-07 00:27:12        32544\n",
            "machado/contos/macn015.txt                     2009-11-07 00:27:12        33900\n",
            "machado/contos/macn016.txt                     2009-11-07 00:27:12        21656\n",
            "machado/contos/macn017.txt                     2009-11-07 00:27:12        46387\n",
            "machado/contos/macn018.txt                     2009-11-07 00:27:12        34189\n",
            "machado/contos/macn019.txt                     2009-11-07 00:27:12        12201\n",
            "machado/contos/macn020.txt                     2009-11-07 00:27:12        56031\n",
            "machado/contos/macn021.txt                     2009-11-07 00:27:12        50411\n",
            "machado/contos/macn022.txt                     2009-11-07 00:27:12        32478\n",
            "machado/contos/macn023.txt                     2009-11-07 00:27:12        29098\n",
            "machado/contos/macn024.txt                     2009-11-07 00:27:12        24062\n",
            "machado/contos/macn025.txt                     2009-11-07 00:27:12        32817\n",
            "machado/contos/macn026.txt                     2009-11-07 00:27:12        39127\n",
            "machado/contos/macn027.txt                     2009-11-07 00:27:12        48343\n",
            "machado/contos/macn028.txt                     2009-11-07 00:27:14        27113\n",
            "machado/contos/macn029.txt                     2009-11-07 00:27:14        35315\n",
            "machado/contos/macn030.txt                     2009-11-07 00:27:14        72476\n",
            "machado/contos/macn031.txt                     2009-11-07 00:27:14        45510\n",
            "machado/contos/macn032.txt                     2009-11-07 00:27:14        28807\n",
            "machado/contos/macn033.txt                     2009-11-07 00:27:14        28199\n",
            "machado/contos/macn034.txt                     2009-11-07 00:27:14        39898\n",
            "machado/contos/macn035.txt                     2009-11-07 00:27:14        19334\n",
            "machado/contos/macn036.txt                     2009-11-07 00:27:14        66324\n",
            "machado/contos/macn037.txt                     2009-11-07 00:27:14        33625\n",
            "machado/contos/macn038.txt                     2009-11-07 00:27:14        26001\n",
            "machado/contos/macn039.txt                     2009-11-07 00:27:14        37672\n",
            "machado/contos/macn040.txt                     2009-11-07 00:27:14        93385\n",
            "machado/contos/macn041.txt                     2009-11-07 00:27:14        43811\n",
            "machado/contos/macn042.txt                     2009-11-07 00:27:14        51552\n",
            "machado/contos/macn043.txt                     2009-11-07 00:27:14        26125\n",
            "machado/contos/macn044.txt                     2009-11-07 00:27:16        27439\n",
            "machado/contos/macn045.txt                     2009-11-07 00:27:16        76312\n",
            "machado/contos/macn046.txt                     2009-11-07 00:27:16        26002\n",
            "machado/contos/macn047.txt                     2009-11-07 00:27:16        21581\n",
            "machado/contos/macn048.txt                     2009-11-07 00:27:16        43225\n",
            "machado/contos/macn049.txt                     2009-11-07 00:27:16        34947\n",
            "machado/contos/macn050.txt                     2009-11-07 00:27:16        38053\n",
            "machado/contos/macn051.txt                     2009-11-07 00:27:16        34498\n",
            "machado/contos/macn052.txt                     2009-11-07 00:27:16        48959\n",
            "machado/contos/macn053.txt                     2009-11-07 00:27:16        45192\n",
            "machado/contos/macn054.txt                     2009-11-07 00:27:16        21014\n",
            "machado/contos/macn055.txt                     2009-11-07 00:27:16        22675\n",
            "machado/contos/macn056.txt                     2009-11-07 00:27:16        31210\n",
            "machado/contos/macn057.txt                     2009-11-07 00:27:16        11554\n",
            "machado/contos/macn058.txt                     2009-11-07 00:27:16        30557\n",
            "machado/contos/macn059.txt                     2009-11-07 00:27:16        16793\n",
            "machado/contos/macn060.txt                     2009-11-07 00:27:16        25731\n",
            "machado/contos/macn061.txt                     2009-11-07 00:27:16        28721\n",
            "machado/contos/macn062.txt                     2009-11-07 00:27:16        19100\n",
            "machado/contos/macn063.txt                     2009-11-07 00:27:18        45635\n",
            "machado/contos/macn064.txt                     2009-11-07 00:27:18        64080\n",
            "machado/contos/macn065.txt                     2009-11-07 00:27:18        19974\n",
            "machado/contos/macn066.txt                     2009-11-07 00:27:18        36401\n",
            "machado/contos/macn067.txt                     2009-11-07 00:27:18        29607\n",
            "machado/contos/macn068.txt                     2009-11-07 00:27:18        30218\n",
            "machado/contos/macn069.txt                     2009-11-07 00:27:18        31181\n",
            "machado/contos/macn070.txt                     2009-11-07 00:27:18        38469\n",
            "machado/contos/macn071.txt                     2009-11-07 00:27:18        33973\n",
            "machado/contos/macn072.txt                     2009-11-07 00:27:18        44550\n",
            "machado/contos/macn073.txt                     2009-11-07 00:27:18        14984\n",
            "machado/contos/macn074.txt                     2009-11-07 00:27:18        12670\n",
            "machado/contos/macn075.txt                     2009-11-07 00:27:18        13137\n",
            "machado/contos/macn076.txt                     2009-11-07 00:27:18        33404\n",
            "machado/contos/macn077.txt                     2009-11-07 00:27:18        44386\n",
            "machado/contos/macn078.txt                     2009-11-07 00:27:18        12295\n",
            "machado/contos/macn079.txt                     2009-11-07 00:27:18        11987\n",
            "machado/contos/macn080.txt                     2009-11-07 00:27:18        16283\n",
            "machado/contos/macn081.txt                     2009-11-07 00:27:18        22486\n",
            "machado/contos/macn082.txt                     2009-11-07 00:27:18        15084\n",
            "machado/contos/macn083.txt                     2009-11-07 00:27:18        37664\n",
            "machado/contos/macn084.txt                     2009-11-07 00:27:18        36751\n",
            "machado/contos/macn085.txt                     2009-11-07 00:27:18        26854\n",
            "machado/contos/macn086.txt                     2009-11-07 00:27:18        43395\n",
            "machado/contos/macn087.txt                     2009-11-07 00:27:20        21650\n",
            "machado/contos/macn088.txt                     2009-11-07 00:27:20        43202\n",
            "machado/contos/macn089.txt                     2009-11-07 00:27:20        16374\n",
            "machado/contos/macn090.txt                     2009-11-07 00:27:20        11795\n",
            "machado/contos/macn091.txt                     2009-11-07 00:27:20         6043\n",
            "machado/contos/macn092.txt                     2009-11-07 00:27:20         7654\n",
            "machado/contos/macn093.txt                     2009-11-07 00:27:20        23097\n",
            "machado/contos/macn094.txt                     2009-11-07 00:27:20         9235\n",
            "machado/contos/macn095.txt                     2009-11-07 00:27:20         7949\n",
            "machado/contos/macn096.txt                     2009-11-07 00:27:20         9457\n",
            "machado/contos/macn097.txt                     2009-11-07 00:27:20        18340\n",
            "machado/contos/macn098.txt                     2009-11-07 00:27:20         6043\n",
            "machado/contos/macn099.txt                     2009-11-07 00:27:20        20665\n",
            "machado/contos/macn100.txt                     2009-11-07 00:27:20         7212\n",
            "machado/contos/macn101.txt                     2009-11-07 00:27:20         7529\n",
            "machado/contos/macn102.txt                     2009-11-07 00:27:20         6060\n",
            "machado/contos/macn103.txt                     2009-11-07 00:27:20        16310\n",
            "machado/contos/macn104.txt                     2009-11-07 00:27:20        18824\n",
            "machado/contos/macn105.txt                     2009-11-07 00:27:20         8840\n",
            "machado/contos/macn106.txt                     2009-11-07 00:27:20        34632\n",
            "machado/contos/macn107.txt                     2009-11-07 00:27:20        10054\n",
            "machado/contos/macn108.txt                     2009-11-07 00:27:20        16685\n",
            "machado/contos/macn109.txt                     2009-11-07 00:27:20        12460\n",
            "machado/contos/macn110.txt                     2009-11-07 00:27:20        19389\n",
            "machado/contos/macn111.txt                     2009-11-07 00:27:20         5643\n",
            "machado/contos/macn112.txt                     2009-11-07 00:27:20         5253\n",
            "machado/contos/macn113.txt                     2009-11-07 00:27:20        34675\n",
            "machado/contos/macn114.txt                     2009-11-07 00:27:20        15904\n",
            "machado/contos/macn115.txt                     2009-11-07 00:27:20        16979\n",
            "machado/contos/macn116.txt                     2009-11-07 00:27:20         7151\n",
            "machado/contos/macn117.txt                     2009-11-07 00:27:20        21190\n",
            "machado/contos/macn118.txt                     2009-11-07 00:27:20        16177\n",
            "machado/contos/macn119.txt                     2009-11-07 00:27:20        21134\n",
            "machado/contos/macn120.txt                     2009-11-07 00:27:20         8344\n",
            "machado/contos/macn121.txt                     2009-11-07 00:27:20        22561\n",
            "machado/contos/macn122.txt                     2009-11-07 00:27:22        21474\n",
            "machado/contos/macn123.txt                     2009-11-07 00:27:22        29741\n",
            "machado/contos/macn124.txt                     2009-11-07 00:27:22        25482\n",
            "machado/contos/macn125.txt                     2009-11-07 00:27:22        30031\n",
            "machado/contos/macn126.txt                     2009-11-07 00:27:22        19759\n",
            "machado/contos/macn127.txt                     2009-11-07 00:27:22        23784\n",
            "machado/contos/macn128.txt                     2009-11-07 00:27:22         8875\n",
            "machado/contos/macn129.txt                     2009-11-07 00:27:22        26990\n",
            "machado/contos/macn130.txt                     2009-11-07 00:27:22         5135\n",
            "machado/contos/macn131.txt                     2009-11-07 00:27:22         8655\n",
            "machado/contos/macn132.txt                     2009-11-07 00:27:22        46491\n",
            "machado/contos/macn133.txt                     2009-11-07 00:27:22         9704\n",
            "machado/contos/macn134.txt                     2009-11-07 00:27:22        17240\n",
            "machado/contos/macn135.txt                     2009-11-07 00:27:22        22072\n",
            "machado/contos/macn136.txt                     2009-11-07 00:27:22        30686\n",
            "machado/contos/macn137.txt                     2009-11-07 00:27:22        39534\n",
            "machado/critica/                               2009-11-07 00:29:16            0\n",
            "machado/critica/mact01.txt                     2009-11-07 00:27:22        13410\n",
            "machado/critica/mact02.txt                     2009-11-07 00:27:22        24249\n",
            "machado/critica/mact03.txt                     2009-11-07 00:27:22       152343\n",
            "machado/critica/mact04.txt                     2009-11-07 00:27:22       185755\n",
            "machado/critica/mact05.txt                     2009-11-07 00:27:22        11160\n",
            "machado/critica/mact06.txt                     2009-11-07 00:27:24         9647\n",
            "machado/critica/mact07.txt                     2009-11-07 00:27:24         4608\n",
            "machado/critica/mact08.txt                     2009-11-07 00:27:24        32286\n",
            "machado/critica/mact09.txt                     2009-11-07 00:27:24        13058\n",
            "machado/critica/mact10.txt                     2009-11-07 00:27:24         5824\n",
            "machado/critica/mact11.txt                     2009-11-07 00:27:24         9326\n",
            "machado/critica/mact12.txt                     2009-11-07 00:27:24        31474\n",
            "machado/critica/mact13.txt                     2009-11-07 00:27:24        10397\n",
            "machado/critica/mact14.txt                     2009-11-07 00:27:24         6657\n",
            "machado/critica/mact15.txt                     2009-11-07 00:27:24        91897\n",
            "machado/critica/mact16.txt                     2009-11-07 00:27:24        11180\n",
            "machado/critica/mact17.txt                     2009-11-07 00:27:24        14997\n",
            "machado/critica/mact18.txt                     2009-11-07 00:27:24        15122\n",
            "machado/critica/mact19.txt                     2009-11-07 00:27:24        12828\n",
            "machado/critica/mact20.txt                     2009-11-07 00:27:24         4503\n",
            "machado/critica/mact21.txt                     2009-11-07 00:27:24         6698\n",
            "machado/critica/mact22.txt                     2009-11-07 00:27:24        16170\n",
            "machado/critica/mact23.txt                     2009-11-07 00:27:24         4439\n",
            "machado/critica/mact24.txt                     2009-11-07 00:28:58        17838\n",
            "machado/critica/mact25.txt                     2009-11-07 00:27:24        25321\n",
            "machado/critica/mact26.txt                     2009-11-07 00:27:24         4953\n",
            "machado/critica/mact27.txt                     2009-11-07 00:27:24        32214\n",
            "machado/critica/mact28.txt                     2009-11-07 00:27:24         5307\n",
            "machado/critica/mact29.txt                     2009-11-07 00:27:24        81563\n",
            "machado/critica/mact30.txt                     2009-11-07 00:27:24         4906\n",
            "machado/critica/mact31.txt                     2009-11-07 00:27:24         5882\n",
            "machado/critica/mact32.txt                     2009-11-07 00:27:24         5689\n",
            "machado/critica/mact33.txt                     2009-11-07 00:27:24         2573\n",
            "machado/critica/mact34.txt                     2009-11-07 00:27:24         1890\n",
            "machado/critica/mact35.txt                     2009-11-07 00:27:24        10729\n",
            "machado/critica/mact36.txt                     2009-11-07 00:27:24        32066\n",
            "machado/critica/mact37.txt                     2009-11-07 00:27:24         6053\n",
            "machado/critica/mact38.txt                     2009-11-07 00:27:24         8536\n",
            "machado/critica/mact39.txt                     2009-11-07 00:27:24         9551\n",
            "machado/critica/mact40.txt                     2009-11-07 00:27:24         5034\n",
            "machado/critica/mact41.txt                     2009-11-07 00:27:24         2185\n",
            "machado/critica/mact42.txt                     2009-11-07 00:27:24         4115\n",
            "machado/critica/mact43.txt                     2009-11-07 00:27:24         8802\n",
            "machado/critica/mact44.txt                     2009-11-07 00:27:24         4017\n",
            "machado/critica/mact45.txt                     2009-11-07 00:27:24         6795\n",
            "machado/cronica/                               2009-11-07 00:29:12            0\n",
            "machado/cronica/macr01.txt                     2009-11-07 00:27:26       132922\n",
            "machado/cronica/macr02.txt                     2009-11-07 00:27:26       124684\n",
            "machado/cronica/macr03.txt                     2009-11-07 00:27:26       117498\n",
            "machado/cronica/macr04.txt                     2009-11-07 00:27:28       457145\n",
            "machado/cronica/macr05.txt                     2009-11-07 00:27:28        21329\n",
            "machado/cronica/macr06.txt                     2009-11-07 00:27:28        63723\n",
            "machado/cronica/macr07.txt                     2009-11-07 00:27:28       119004\n",
            "machado/cronica/macr08.txt                     2009-11-07 00:27:28        13439\n",
            "machado/cronica/macr09.txt                     2009-11-07 00:27:28        97420\n",
            "machado/cronica/macr10.txt                     2009-11-07 00:27:28       189759\n",
            "machado/cronica/macr11.txt                     2009-11-07 00:27:30       123113\n",
            "machado/cronica/macr12.txt                     2009-11-07 00:27:32      1540128\n",
            "machado/cronica/macr13.txt                     2009-11-07 00:27:32        17628\n",
            "machado/cronica/macr14.txt                     2009-11-07 00:27:32         5537\n",
            "machado/cronica/macr15.txt                     2009-11-07 00:27:32        34524\n",
            "machado/cronica/macr16.txt                     2009-11-07 00:27:32         1888\n",
            "machado/cronica/macr17.txt                     2009-11-07 00:27:32         3975\n",
            "machado/cronica/macr18.txt                     2009-11-07 00:27:32          620\n",
            "machado/cronica/macr19.txt                     2009-11-07 00:27:32         4814\n",
            "machado/cronica/macr20.txt                     2009-11-07 00:27:32         3400\n",
            "machado/cronica/macr21.txt                     2009-11-07 00:27:32        36488\n",
            "machado/cronica/macr22.txt                     2009-11-07 00:27:32         4254\n",
            "machado/cronica/macr23.txt                     2009-11-07 00:27:32         1251\n",
            "machado/cronica/macr24.txt                     2009-11-07 00:27:32        25606\n",
            "machado/miscelanea/                            2009-11-07 00:29:12            0\n",
            "machado/miscelanea/mams01.txt                  2009-11-07 00:27:32         7536\n",
            "machado/miscelanea/mams02.txt                  2009-11-07 00:27:32        22668\n",
            "machado/miscelanea/mams03.txt                  2009-11-07 00:27:32         8947\n",
            "machado/miscelanea/mams04.txt                  2009-11-07 00:27:32         3483\n",
            "machado/miscelanea/mams05.txt                  2009-11-07 00:27:34         6549\n",
            "machado/miscelanea/mams06.txt                  2009-11-07 00:27:34         1257\n",
            "machado/miscelanea/mams07.txt                  2009-11-07 00:27:34         3801\n",
            "machado/miscelanea/mams08.txt                  2009-11-07 00:27:34         8829\n",
            "machado/miscelanea/mams09.txt                  2009-11-07 00:27:34         4159\n",
            "machado/miscelanea/mams10.txt                  2009-11-07 00:27:34         5827\n",
            "machado/poesia/                                2009-11-07 00:29:12            0\n",
            "machado/poesia/maps01.txt                      2009-11-07 00:27:34        72971\n",
            "machado/poesia/maps02.txt                      2009-11-07 00:27:34       112294\n",
            "machado/poesia/maps03.txt                      2009-11-07 00:27:34       102423\n",
            "machado/poesia/maps04.txt                      2009-11-07 00:27:34       119157\n",
            "machado/poesia/maps05.txt                      2009-11-07 00:27:36        42604\n",
            "machado/poesia/maps06.txt                      2009-11-07 00:27:36       103931\n",
            "machado/poesia/maps07.txt                      2009-11-07 00:27:36       136862\n",
            "machado/README                                 2009-11-07 17:12:34         7468\n",
            "machado/romance/                               2009-11-07 00:29:12            0\n",
            "machado/romance/marm01.txt                     2009-11-07 00:27:36       220519\n",
            "machado/romance/marm02.txt                     2009-11-07 00:27:38       201581\n",
            "machado/romance/marm03.txt                     2009-11-07 00:27:38       338374\n",
            "machado/romance/marm04.txt                     2009-11-07 00:27:40       336880\n",
            "machado/romance/marm05.txt                     2009-11-07 00:27:40       355706\n",
            "machado/romance/marm06.txt                     2009-11-07 00:27:40       130936\n",
            "machado/romance/marm07.txt                     2009-11-07 00:27:40       446502\n",
            "machado/romance/marm08.txt                     2009-11-07 00:27:42       373504\n",
            "machado/romance/marm09.txt                     2009-11-07 00:27:42       412059\n",
            "machado/romance/marm10.txt                     2009-11-07 00:27:44       282378\n",
            "machado/teatro/                                2009-11-07 00:29:12            0\n",
            "machado/teatro/matt01.txt                      2009-11-07 00:27:44        51665\n",
            "machado/teatro/matt02.txt                      2009-11-07 00:27:44        25730\n",
            "machado/teatro/matt03.txt                      2009-11-07 00:27:44        48618\n",
            "machado/teatro/matt04.txt                      2009-11-07 00:27:44        77979\n",
            "machado/teatro/matt05.txt                      2009-11-07 00:27:44        30882\n",
            "machado/teatro/matt06.txt                      2009-11-07 00:27:44        36129\n",
            "machado/teatro/matt07.txt                      2009-11-07 00:27:44         8109\n",
            "machado/teatro/matt08.txt                      2009-11-07 00:27:44        41036\n",
            "machado/teatro/matt09.txt                      2009-11-07 00:27:46        32836\n",
            "machado/teatro/matt10.txt                      2009-11-07 00:27:46        35487\n",
            "machado/traducao/                              2009-11-07 00:29:12            0\n",
            "machado/traducao/matr01.txt                    2009-11-07 00:27:46        54909\n",
            "machado/traducao/matr02.txt                    2009-11-07 00:27:46       708762\n",
            "machado/traducao/matr03.txt                    2009-11-07 00:27:48       352469\n"
          ]
        }
      ]
    },
    {
      "cell_type": "code",
      "source": [
        "import os\n",
        "pasta_destino = '/root/nltk_data/corpora/'\n",
        "\n",
        "os.makedirs(pasta_destino,exist_ok=True)\n",
        "\n",
        "arquivo_zip.extractall(pasta_destino)\n",
        "\n",
        "print(f\"Arquivo {caminho_zip} extraído com sucesso na pasta {pasta_destino}.\")"
      ],
      "metadata": {
        "colab": {
          "base_uri": "https://localhost:8080/"
        },
        "id": "GDECS_psFLwK",
        "outputId": "6059748c-9c0f-4356-c822-aeafcd8f2167"
      },
      "execution_count": 4,
      "outputs": [
        {
          "output_type": "stream",
          "name": "stdout",
          "text": [
            "Arquivo /root/nltk_data/corpora/machado.zip extraído com sucesso na pasta /root/nltk_data/corpora/.\n"
          ]
        }
      ]
    },
    {
      "cell_type": "markdown",
      "source": [
        "### Exemplo 01 - NER com Spacy"
      ],
      "metadata": {
        "id": "LygOL4JlxAph"
      }
    },
    {
      "cell_type": "code",
      "execution_count": 5,
      "metadata": {
        "colab": {
          "base_uri": "https://localhost:8080/"
        },
        "collapsed": true,
        "id": "WAVRWJ3-Sq-k",
        "outputId": "623967c0-6ee0-48c3-f5c7-edfc7a3c06c7"
      },
      "outputs": [
        {
          "output_type": "stream",
          "name": "stdout",
          "text": [
            "Requirement already satisfied: spacy in /usr/local/lib/python3.11/dist-packages (3.8.5)\n",
            "Requirement already satisfied: spacy-legacy<3.1.0,>=3.0.11 in /usr/local/lib/python3.11/dist-packages (from spacy) (3.0.12)\n",
            "Requirement already satisfied: spacy-loggers<2.0.0,>=1.0.0 in /usr/local/lib/python3.11/dist-packages (from spacy) (1.0.5)\n",
            "Requirement already satisfied: murmurhash<1.1.0,>=0.28.0 in /usr/local/lib/python3.11/dist-packages (from spacy) (1.0.12)\n",
            "Requirement already satisfied: cymem<2.1.0,>=2.0.2 in /usr/local/lib/python3.11/dist-packages (from spacy) (2.0.11)\n",
            "Requirement already satisfied: preshed<3.1.0,>=3.0.2 in /usr/local/lib/python3.11/dist-packages (from spacy) (3.0.9)\n",
            "Requirement already satisfied: thinc<8.4.0,>=8.3.4 in /usr/local/lib/python3.11/dist-packages (from spacy) (8.3.6)\n",
            "Requirement already satisfied: wasabi<1.2.0,>=0.9.1 in /usr/local/lib/python3.11/dist-packages (from spacy) (1.1.3)\n",
            "Requirement already satisfied: srsly<3.0.0,>=2.4.3 in /usr/local/lib/python3.11/dist-packages (from spacy) (2.5.1)\n",
            "Requirement already satisfied: catalogue<2.1.0,>=2.0.6 in /usr/local/lib/python3.11/dist-packages (from spacy) (2.0.10)\n",
            "Requirement already satisfied: weasel<0.5.0,>=0.1.0 in /usr/local/lib/python3.11/dist-packages (from spacy) (0.4.1)\n",
            "Requirement already satisfied: typer<1.0.0,>=0.3.0 in /usr/local/lib/python3.11/dist-packages (from spacy) (0.15.2)\n",
            "Requirement already satisfied: tqdm<5.0.0,>=4.38.0 in /usr/local/lib/python3.11/dist-packages (from spacy) (4.67.1)\n",
            "Requirement already satisfied: numpy>=1.19.0 in /usr/local/lib/python3.11/dist-packages (from spacy) (1.26.4)\n",
            "Requirement already satisfied: requests<3.0.0,>=2.13.0 in /usr/local/lib/python3.11/dist-packages (from spacy) (2.32.3)\n",
            "Requirement already satisfied: pydantic!=1.8,!=1.8.1,<3.0.0,>=1.7.4 in /usr/local/lib/python3.11/dist-packages (from spacy) (2.11.2)\n",
            "Requirement already satisfied: jinja2 in /usr/local/lib/python3.11/dist-packages (from spacy) (3.1.6)\n",
            "Requirement already satisfied: setuptools in /usr/local/lib/python3.11/dist-packages (from spacy) (75.2.0)\n",
            "Requirement already satisfied: packaging>=20.0 in /usr/local/lib/python3.11/dist-packages (from spacy) (24.2)\n",
            "Requirement already satisfied: langcodes<4.0.0,>=3.2.0 in /usr/local/lib/python3.11/dist-packages (from spacy) (3.5.0)\n",
            "Requirement already satisfied: language-data>=1.2 in /usr/local/lib/python3.11/dist-packages (from langcodes<4.0.0,>=3.2.0->spacy) (1.3.0)\n",
            "Requirement already satisfied: annotated-types>=0.6.0 in /usr/local/lib/python3.11/dist-packages (from pydantic!=1.8,!=1.8.1,<3.0.0,>=1.7.4->spacy) (0.7.0)\n",
            "Requirement already satisfied: pydantic-core==2.33.1 in /usr/local/lib/python3.11/dist-packages (from pydantic!=1.8,!=1.8.1,<3.0.0,>=1.7.4->spacy) (2.33.1)\n",
            "Requirement already satisfied: typing-extensions>=4.12.2 in /usr/local/lib/python3.11/dist-packages (from pydantic!=1.8,!=1.8.1,<3.0.0,>=1.7.4->spacy) (4.13.1)\n",
            "Requirement already satisfied: typing-inspection>=0.4.0 in /usr/local/lib/python3.11/dist-packages (from pydantic!=1.8,!=1.8.1,<3.0.0,>=1.7.4->spacy) (0.4.0)\n",
            "Requirement already satisfied: charset-normalizer<4,>=2 in /usr/local/lib/python3.11/dist-packages (from requests<3.0.0,>=2.13.0->spacy) (3.4.1)\n",
            "Requirement already satisfied: idna<4,>=2.5 in /usr/local/lib/python3.11/dist-packages (from requests<3.0.0,>=2.13.0->spacy) (3.10)\n",
            "Requirement already satisfied: urllib3<3,>=1.21.1 in /usr/local/lib/python3.11/dist-packages (from requests<3.0.0,>=2.13.0->spacy) (2.3.0)\n",
            "Requirement already satisfied: certifi>=2017.4.17 in /usr/local/lib/python3.11/dist-packages (from requests<3.0.0,>=2.13.0->spacy) (2025.1.31)\n",
            "Requirement already satisfied: blis<1.4.0,>=1.3.0 in /usr/local/lib/python3.11/dist-packages (from thinc<8.4.0,>=8.3.4->spacy) (1.3.0)\n",
            "Requirement already satisfied: confection<1.0.0,>=0.0.1 in /usr/local/lib/python3.11/dist-packages (from thinc<8.4.0,>=8.3.4->spacy) (0.1.5)\n",
            "Collecting numpy>=1.19.0 (from spacy)\n",
            "  Downloading numpy-2.2.4-cp311-cp311-manylinux_2_17_x86_64.manylinux2014_x86_64.whl.metadata (62 kB)\n",
            "\u001b[2K     \u001b[90m━━━━━━━━━━━━━━━━━━━━━━━━━━━━━━━━━━━━━━━━\u001b[0m \u001b[32m62.0/62.0 kB\u001b[0m \u001b[31m3.6 MB/s\u001b[0m eta \u001b[36m0:00:00\u001b[0m\n",
            "\u001b[?25hRequirement already satisfied: click>=8.0.0 in /usr/local/lib/python3.11/dist-packages (from typer<1.0.0,>=0.3.0->spacy) (8.1.8)\n",
            "Requirement already satisfied: shellingham>=1.3.0 in /usr/local/lib/python3.11/dist-packages (from typer<1.0.0,>=0.3.0->spacy) (1.5.4)\n",
            "Requirement already satisfied: rich>=10.11.0 in /usr/local/lib/python3.11/dist-packages (from typer<1.0.0,>=0.3.0->spacy) (13.9.4)\n",
            "Requirement already satisfied: cloudpathlib<1.0.0,>=0.7.0 in /usr/local/lib/python3.11/dist-packages (from weasel<0.5.0,>=0.1.0->spacy) (0.21.0)\n",
            "Requirement already satisfied: smart-open<8.0.0,>=5.2.1 in /usr/local/lib/python3.11/dist-packages (from weasel<0.5.0,>=0.1.0->spacy) (7.1.0)\n",
            "Requirement already satisfied: MarkupSafe>=2.0 in /usr/local/lib/python3.11/dist-packages (from jinja2->spacy) (3.0.2)\n",
            "Requirement already satisfied: marisa-trie>=1.1.0 in /usr/local/lib/python3.11/dist-packages (from language-data>=1.2->langcodes<4.0.0,>=3.2.0->spacy) (1.2.1)\n",
            "Requirement already satisfied: markdown-it-py>=2.2.0 in /usr/local/lib/python3.11/dist-packages (from rich>=10.11.0->typer<1.0.0,>=0.3.0->spacy) (3.0.0)\n",
            "Requirement already satisfied: pygments<3.0.0,>=2.13.0 in /usr/local/lib/python3.11/dist-packages (from rich>=10.11.0->typer<1.0.0,>=0.3.0->spacy) (2.18.0)\n",
            "Requirement already satisfied: wrapt in /usr/local/lib/python3.11/dist-packages (from smart-open<8.0.0,>=5.2.1->weasel<0.5.0,>=0.1.0->spacy) (1.17.2)\n",
            "Requirement already satisfied: mdurl~=0.1 in /usr/local/lib/python3.11/dist-packages (from markdown-it-py>=2.2.0->rich>=10.11.0->typer<1.0.0,>=0.3.0->spacy) (0.1.2)\n",
            "Downloading numpy-2.2.4-cp311-cp311-manylinux_2_17_x86_64.manylinux2014_x86_64.whl (16.4 MB)\n",
            "\u001b[2K   \u001b[90m━━━━━━━━━━━━━━━━━━━━━━━━━━━━━━━━━━━━━━━━\u001b[0m \u001b[32m16.4/16.4 MB\u001b[0m \u001b[31m78.0 MB/s\u001b[0m eta \u001b[36m0:00:00\u001b[0m\n",
            "\u001b[?25hInstalling collected packages: numpy\n",
            "  Attempting uninstall: numpy\n",
            "    Found existing installation: numpy 1.26.4\n",
            "    Uninstalling numpy-1.26.4:\n",
            "      Successfully uninstalled numpy-1.26.4\n",
            "\u001b[31mERROR: pip's dependency resolver does not currently take into account all the packages that are installed. This behaviour is the source of the following dependency conflicts.\n",
            "gensim 4.3.3 requires numpy<2.0,>=1.18.5, but you have numpy 2.2.4 which is incompatible.\n",
            "tensorflow 2.18.0 requires numpy<2.1.0,>=1.26.0, but you have numpy 2.2.4 which is incompatible.\n",
            "numba 0.60.0 requires numpy<2.1,>=1.22, but you have numpy 2.2.4 which is incompatible.\u001b[0m\u001b[31m\n",
            "\u001b[0mSuccessfully installed numpy-2.2.4\n",
            "Collecting pt-core-news-sm==3.8.0\n",
            "  Downloading https://github.com/explosion/spacy-models/releases/download/pt_core_news_sm-3.8.0/pt_core_news_sm-3.8.0-py3-none-any.whl (13.0 MB)\n",
            "\u001b[2K     \u001b[90m━━━━━━━━━━━━━━━━━━━━━━━━━━━━━━━━━━━━━━━━\u001b[0m \u001b[32m13.0/13.0 MB\u001b[0m \u001b[31m86.5 MB/s\u001b[0m eta \u001b[36m0:00:00\u001b[0m\n",
            "\u001b[?25h\u001b[38;5;2m✔ Download and installation successful\u001b[0m\n",
            "You can now load the package via spacy.load('pt_core_news_sm')\n",
            "\u001b[38;5;3m⚠ Restart to reload dependencies\u001b[0m\n",
            "If you are in a Jupyter or Colab notebook, you may need to restart Python in\n",
            "order to load all the package's dependencies. You can do this by selecting the\n",
            "'Restart kernel' or 'Restart runtime' option.\n"
          ]
        }
      ],
      "source": [
        "!pip install spacy\n",
        "!python -m spacy download pt_core_news_sm"
      ]
    },
    {
      "cell_type": "code",
      "source": [
        "import spacy\n",
        "\n",
        "# Carrega o modelo em português\n",
        "nlp = spacy.load(\"pt_core_news_sm\")\n",
        "\n",
        "# Texto de exemplo\n",
        "texto = \"Um noticiário de algo muito importante da Monique da NHK no Brasil\"\n",
        "\n",
        "# Processa o texto\n",
        "doc = nlp(texto)\n",
        "\n",
        "# Imprime as entidades identificadas\n",
        "for entidade in doc.ents:\n",
        "    print(f\"{entidade.text} - {entidade.label_}\")\n",
        "\n",
        "etiq = [(x.orth_,x.pos_) for x in doc]\n",
        "\n",
        "print(etiq)"
      ],
      "metadata": {
        "colab": {
          "base_uri": "https://localhost:8080/"
        },
        "id": "knFDJLqWxR2w",
        "outputId": "8c51543b-5e3b-484b-ce76-767757c4332c"
      },
      "execution_count": 1,
      "outputs": [
        {
          "output_type": "stream",
          "name": "stdout",
          "text": [
            "Monique da NHK - MISC\n",
            "Brasil - LOC\n",
            "[('Um', 'DET'), ('noticiário', 'NOUN'), ('de', 'ADP'), ('algo', 'PRON'), ('muito', 'ADV'), ('importante', 'ADJ'), ('da', 'ADP'), ('Monique', 'PROPN'), ('da', 'ADP'), ('NHK', 'PROPN'), ('no', 'ADP'), ('Brasil', 'PROPN')]\n"
          ]
        }
      ]
    },
    {
      "cell_type": "markdown",
      "source": [
        "### Exemplo 02 - NER com NLTK"
      ],
      "metadata": {
        "id": "xy4_Kjl5yec-"
      }
    },
    {
      "cell_type": "code",
      "source": [
        "import nltk\n",
        "from nltk.tokenize import word_tokenize\n",
        "from nltk.tag import pos_tag\n",
        "from nltk.chunk import ne_chunk\n",
        "\n",
        "# Baixar pacotes necessários\n",
        "nltk.download('punkt_tab')\n",
        "nltk.download('maxent_ne_chunker_tab')\n",
        "nltk.download('words')\n",
        "nltk.download('averaged_perceptron_tagger_eng')\n",
        "\n",
        "# Texto de exemplo\n",
        "texto = \"Eu fui ao mercado junto do Don-Lee\"\n",
        "\n",
        "# Tokenização e POS tagging\n",
        "tokens = word_tokenize(texto)\n",
        "tags = pos_tag(tokens)\n",
        "\n",
        "# Identificação de entidades\n",
        "entidades = ne_chunk(tags)\n",
        "\n",
        "# Exibir as entidades reconhecidas\n",
        "print(entidades)\n"
      ],
      "metadata": {
        "colab": {
          "base_uri": "https://localhost:8080/"
        },
        "id": "CUCfN7gpyc6A",
        "outputId": "7b71fc98-e702-46b8-cc6a-fa25fcc3dd2b"
      },
      "execution_count": 7,
      "outputs": [
        {
          "output_type": "stream",
          "name": "stderr",
          "text": [
            "[nltk_data] Downloading package punkt_tab to /root/nltk_data...\n",
            "[nltk_data]   Package punkt_tab is already up-to-date!\n",
            "[nltk_data] Downloading package maxent_ne_chunker_tab to\n",
            "[nltk_data]     /root/nltk_data...\n",
            "[nltk_data]   Package maxent_ne_chunker_tab is already up-to-date!\n",
            "[nltk_data] Downloading package words to /root/nltk_data...\n",
            "[nltk_data]   Package words is already up-to-date!\n",
            "[nltk_data] Downloading package averaged_perceptron_tagger_eng to\n",
            "[nltk_data]     /root/nltk_data...\n",
            "[nltk_data]   Package averaged_perceptron_tagger_eng is already up-to-\n",
            "[nltk_data]       date!\n"
          ]
        },
        {
          "output_type": "stream",
          "name": "stdout",
          "text": [
            "(S (GPE Eu/NNP) fui/NN ao/NN mercado/NN junto/NN do/VBP Don-Lee/NNP)\n"
          ]
        }
      ]
    },
    {
      "cell_type": "markdown",
      "source": [
        "### Exemplo 03 - Extração de Informações com Expressões Regulares"
      ],
      "metadata": {
        "id": "jPEtPjm90Hre"
      }
    },
    {
      "cell_type": "code",
      "source": [
        "import re\n",
        "\n",
        "texto = \"O pagamento deve ser feito até dia 28 de cada mês, nete mês será Abril de 2025\"\n",
        "\n",
        "# Expressão regular para encontrar datas\n",
        "padrao = r\"\\d{1,2} de [a-zA-Z]+ de \\d{4}\"\n",
        "datas = re.findall(padrao,texto)\n",
        "\n",
        "print(datas)"
      ],
      "metadata": {
        "colab": {
          "base_uri": "https://localhost:8080/"
        },
        "id": "XeJZg2dZ0EUX",
        "outputId": "d55f40c2-c2e2-4d97-f599-19367b28d982"
      },
      "execution_count": 8,
      "outputs": [
        {
          "output_type": "stream",
          "name": "stdout",
          "text": [
            "[]\n"
          ]
        }
      ]
    },
    {
      "cell_type": "markdown",
      "source": [
        "### Exemplo 04 - Extração de informação com Regras Heurísticas e Dicionários"
      ],
      "metadata": {
        "id": "DAMx60Ku02Hw"
      }
    },
    {
      "cell_type": "code",
      "source": [
        "profissoes = [\"engenheiro\",\"cientista de dados\",\"médico\",\"advogado\"]\n",
        "\n",
        "texto = \"João é advogado de software e trabalha na Tesla.\"\n",
        "\n",
        "for profissao in profissoes:\n",
        "  if profissao in texto:\n",
        "    print(f\"Profissão identificada: {profissao}\")"
      ],
      "metadata": {
        "colab": {
          "base_uri": "https://localhost:8080/"
        },
        "id": "Tc45hj5g1BM4",
        "outputId": "132d58c3-4d2c-434d-f140-989b1752f928"
      },
      "execution_count": 9,
      "outputs": [
        {
          "output_type": "stream",
          "name": "stdout",
          "text": [
            "Profissão identificada: advogado\n"
          ]
        }
      ]
    },
    {
      "cell_type": "markdown",
      "source": [
        "### Exemplo 05 - Mineração de Textos com Frequência de Palavras e N-Gramas"
      ],
      "metadata": {
        "id": "-9AZkJcm1s6Q"
      }
    },
    {
      "cell_type": "code",
      "source": [
        "import nltk\n",
        "from nltk.util import ngrams\n",
        "from collections import Counter\n",
        "\n",
        "texto = \"Mineração de textos envolve análise de palavras, palavras importantes e padrões\"\n",
        "palavras = nltk.word_tokenize(texto.lower())\n",
        "\n",
        "frequencia = Counter(palavras)\n",
        "print(frequencia.most_common(5)) # Top 5 palavras mais frequentes\n",
        "\n",
        "bigrams = list(ngrams(palavras,2))\n",
        "print(bigrams)"
      ],
      "metadata": {
        "colab": {
          "base_uri": "https://localhost:8080/"
        },
        "id": "rKWcn8IY17OA",
        "outputId": "dbc05a37-78b5-478d-eaba-4867c198243d"
      },
      "execution_count": 10,
      "outputs": [
        {
          "output_type": "stream",
          "name": "stdout",
          "text": [
            "[('de', 2), ('palavras', 2), ('mineração', 1), ('textos', 1), ('envolve', 1)]\n",
            "[('mineração', 'de'), ('de', 'textos'), ('textos', 'envolve'), ('envolve', 'análise'), ('análise', 'de'), ('de', 'palavras'), ('palavras', ','), (',', 'palavras'), ('palavras', 'importantes'), ('importantes', 'e'), ('e', 'padrões')]\n"
          ]
        }
      ]
    },
    {
      "cell_type": "markdown",
      "source": [
        "### Exemplo 06 - Mineração de Texto"
      ],
      "metadata": {
        "id": "rU8sd5OQ5AWg"
      }
    },
    {
      "cell_type": "code",
      "source": [
        "#!pip install gensim\n",
        "!pip install --force-reinstall gensim"
      ],
      "metadata": {
        "colab": {
          "base_uri": "https://localhost:8080/",
          "height": 790
        },
        "collapsed": true,
        "id": "Ynl5vE5Y5Fe_",
        "outputId": "384b6240-0b37-425f-e50b-9c27412757b9"
      },
      "execution_count": 11,
      "outputs": [
        {
          "output_type": "stream",
          "name": "stdout",
          "text": [
            "Collecting gensim\n",
            "  Using cached gensim-4.3.3-cp311-cp311-manylinux_2_17_x86_64.manylinux2014_x86_64.whl.metadata (8.1 kB)\n",
            "Collecting numpy<2.0,>=1.18.5 (from gensim)\n",
            "  Using cached numpy-1.26.4-cp311-cp311-manylinux_2_17_x86_64.manylinux2014_x86_64.whl.metadata (61 kB)\n",
            "Collecting scipy<1.14.0,>=1.7.0 (from gensim)\n",
            "  Using cached scipy-1.13.1-cp311-cp311-manylinux_2_17_x86_64.manylinux2014_x86_64.whl.metadata (60 kB)\n",
            "Collecting smart-open>=1.8.1 (from gensim)\n",
            "  Using cached smart_open-7.1.0-py3-none-any.whl.metadata (24 kB)\n",
            "Collecting wrapt (from smart-open>=1.8.1->gensim)\n",
            "  Using cached wrapt-1.17.2-cp311-cp311-manylinux_2_5_x86_64.manylinux1_x86_64.manylinux_2_17_x86_64.manylinux2014_x86_64.whl.metadata (6.4 kB)\n",
            "Using cached gensim-4.3.3-cp311-cp311-manylinux_2_17_x86_64.manylinux2014_x86_64.whl (26.7 MB)\n",
            "Using cached numpy-1.26.4-cp311-cp311-manylinux_2_17_x86_64.manylinux2014_x86_64.whl (18.3 MB)\n",
            "Using cached scipy-1.13.1-cp311-cp311-manylinux_2_17_x86_64.manylinux2014_x86_64.whl (38.6 MB)\n",
            "Using cached smart_open-7.1.0-py3-none-any.whl (61 kB)\n",
            "Using cached wrapt-1.17.2-cp311-cp311-manylinux_2_5_x86_64.manylinux1_x86_64.manylinux_2_17_x86_64.manylinux2014_x86_64.whl (83 kB)\n",
            "Installing collected packages: wrapt, numpy, smart-open, scipy, gensim\n",
            "  Attempting uninstall: wrapt\n",
            "    Found existing installation: wrapt 1.17.2\n",
            "    Uninstalling wrapt-1.17.2:\n",
            "      Successfully uninstalled wrapt-1.17.2\n",
            "  Attempting uninstall: numpy\n",
            "    Found existing installation: numpy 2.2.4\n",
            "    Uninstalling numpy-2.2.4:\n",
            "      Successfully uninstalled numpy-2.2.4\n",
            "  Attempting uninstall: smart-open\n",
            "    Found existing installation: smart-open 7.1.0\n",
            "    Uninstalling smart-open-7.1.0:\n",
            "      Successfully uninstalled smart-open-7.1.0\n",
            "  Attempting uninstall: scipy\n",
            "    Found existing installation: scipy 1.13.1\n",
            "    Uninstalling scipy-1.13.1:\n",
            "      Successfully uninstalled scipy-1.13.1\n",
            "  Attempting uninstall: gensim\n",
            "    Found existing installation: gensim 4.3.3\n",
            "    Uninstalling gensim-4.3.3:\n",
            "      Successfully uninstalled gensim-4.3.3\n",
            "\u001b[31mERROR: pip's dependency resolver does not currently take into account all the packages that are installed. This behaviour is the source of the following dependency conflicts.\n",
            "thinc 8.3.6 requires numpy<3.0.0,>=2.0.0, but you have numpy 1.26.4 which is incompatible.\u001b[0m\u001b[31m\n",
            "\u001b[0mSuccessfully installed gensim-4.3.3 numpy-1.26.4 scipy-1.13.1 smart-open-7.1.0 wrapt-1.17.2\n"
          ]
        },
        {
          "output_type": "display_data",
          "data": {
            "application/vnd.colab-display-data+json": {
              "pip_warning": {
                "packages": [
                  "gensim",
                  "smart_open",
                  "wrapt"
                ]
              },
              "id": "4c18f39a17054082b616d2f5ebc872db"
            }
          },
          "metadata": {}
        }
      ]
    },
    {
      "cell_type": "code",
      "source": [
        "from gensim import corpora, models\n",
        "\n",
        "# Texto de exemplo\n",
        "documentos = [[\"mineração\",\"textos\",\"dados\"],\n",
        "              [\"inteligência\",\"artificial\",\"aprendizado\"],\n",
        "              [\"dados\",\"aprendizado\",\"estatísticas\"]]\n",
        "\n",
        "# Criar dicionários e corpus\n",
        "dicionario = corpora.Dictionary(documentos)\n",
        "corpus = [dicionario.doc2bow(texto) for texto in documentos]\n",
        "\n",
        "# Aplicar LDA\n",
        "lda_modelo = models.LdaModel(corpus,num_topics=2,id2word=dicionario)\n",
        "print(lda_modelo.print_topics())\n"
      ],
      "metadata": {
        "colab": {
          "base_uri": "https://localhost:8080/"
        },
        "id": "YCDLWWPt5hnQ",
        "outputId": "b2367b36-9b5b-4511-9c63-7b29c0e3b494"
      },
      "execution_count": 12,
      "outputs": [
        {
          "output_type": "stream",
          "name": "stderr",
          "text": [
            "WARNING:gensim.models.ldamodel:too few updates, training might not converge; consider increasing the number of passes or iterations to improve accuracy\n"
          ]
        },
        {
          "output_type": "stream",
          "name": "stdout",
          "text": [
            "[(0, '0.240*\"aprendizado\" + 0.172*\"dados\" + 0.153*\"estatísticas\" + 0.144*\"artificial\" + 0.141*\"inteligência\" + 0.076*\"textos\" + 0.074*\"mineração\"'), (1, '0.207*\"dados\" + 0.189*\"mineração\" + 0.186*\"textos\" + 0.122*\"aprendizado\" + 0.105*\"inteligência\" + 0.101*\"artificial\" + 0.090*\"estatísticas\"')]\n"
          ]
        }
      ]
    }
  ]
}